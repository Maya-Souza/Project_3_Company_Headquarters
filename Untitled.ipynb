{
 "cells": [
  {
   "cell_type": "code",
   "execution_count": 101,
   "id": "eb2efc96",
   "metadata": {},
   "outputs": [
    {
     "data": {
      "text/plain": [
       "True"
      ]
     },
     "execution_count": 101,
     "metadata": {},
     "output_type": "execute_result"
    }
   ],
   "source": [
    "from pymongo import MongoClient\n",
    "import pandas as pd\n",
    "import time\n",
    "\n",
    "import os\n",
    "import requests\n",
    "import json\n",
    "from dotenv import load_dotenv\n",
    "import pandas as pd\n",
    "\n",
    "import geopandas as gpd\n",
    "from cartoframes.viz import Map, Layer, popup_element\n",
    "\n",
    "import folium\n",
    "from folium import Choropleth, Circle, Marker, Icon, Map\n",
    "from folium.plugins import HeatMap, MarkerCluster\n",
    "import pandas as pd\n",
    "import statistics as s\n",
    "\n",
    "import haversine as hs\n",
    "load_dotenv()"
   ]
  },
  {
   "cell_type": "markdown",
   "id": "51a550d4",
   "metadata": {},
   "source": [
    "# Filtering and extracting the data"
   ]
  },
  {
   "cell_type": "code",
   "execution_count": 29,
   "id": "3f93aa30",
   "metadata": {},
   "outputs": [],
   "source": [
    "client = MongoClient(\"localhost:27017\")\n",
    "db = client[\"ironhack\"]\n",
    "c = db.get_collection(\"companies\")"
   ]
  },
  {
   "cell_type": "code",
   "execution_count": 30,
   "id": "b53db8b1",
   "metadata": {
    "scrolled": true
   },
   "outputs": [],
   "source": [
    "# c.distinct(\"category_code\")"
   ]
  },
  {
   "cell_type": "code",
   "execution_count": 31,
   "id": "ef068a2f",
   "metadata": {},
   "outputs": [],
   "source": [
    "def filtering_companies():\n",
    "\n",
    "    condition1 = {\"total_money_raised\" : {\"$regex\": \"\\d{2,}\\.?\\d?M|\\d{1,}\\.?\\d?B\"}}\n",
    "    condition2 = {\"tag_list\": {\"$regex\": \".*design.|.tech.|.software.|.fashion.\"}}\n",
    "    condition3 = {\"category_code\": \"web\"}\n",
    "    condition4 = {\"offices\": {\"$ne\": []}}\n",
    "\n",
    "    projection = {\"_id\": 0, \"name\":1, \"offices.city\":1, \"offices.latitude\":1, \"offices.longitude\": 1, \"address1\":1, \"total_money_raised\": 1}\n",
    "\n",
    "    query = {\"$and\": [condition1, condition4, {\"$or\": [condition2, condition3]}]}\n",
    "\n",
    "\n",
    "    filtered_companies = list(c.find(query, projection))\n",
    "    df = pd.DataFrame(filtered_companies)\n",
    "    \n",
    "    return df\n"
   ]
  },
  {
   "cell_type": "code",
   "execution_count": 32,
   "id": "a770d8ec",
   "metadata": {
    "scrolled": true
   },
   "outputs": [
    {
     "data": {
      "text/html": [
       "<div>\n",
       "<style scoped>\n",
       "    .dataframe tbody tr th:only-of-type {\n",
       "        vertical-align: middle;\n",
       "    }\n",
       "\n",
       "    .dataframe tbody tr th {\n",
       "        vertical-align: top;\n",
       "    }\n",
       "\n",
       "    .dataframe thead th {\n",
       "        text-align: right;\n",
       "    }\n",
       "</style>\n",
       "<table border=\"1\" class=\"dataframe\">\n",
       "  <thead>\n",
       "    <tr style=\"text-align: right;\">\n",
       "      <th></th>\n",
       "      <th>name</th>\n",
       "      <th>total_money_raised</th>\n",
       "      <th>offices</th>\n",
       "    </tr>\n",
       "  </thead>\n",
       "  <tbody>\n",
       "    <tr>\n",
       "      <th>287</th>\n",
       "      <td>Swype</td>\n",
       "      <td>$13.9M</td>\n",
       "      <td>[{'city': 'Seattle', 'latitude': 47.6495905, '...</td>\n",
       "    </tr>\n",
       "  </tbody>\n",
       "</table>\n",
       "</div>"
      ],
      "text/plain": [
       "      name total_money_raised  \\\n",
       "287  Swype             $13.9M   \n",
       "\n",
       "                                               offices  \n",
       "287  [{'city': 'Seattle', 'latitude': 47.6495905, '...  "
      ]
     },
     "execution_count": 32,
     "metadata": {},
     "output_type": "execute_result"
    }
   ],
   "source": [
    "df = filtering_companies()\n",
    "df.sample(1)"
   ]
  },
  {
   "cell_type": "code",
   "execution_count": 33,
   "id": "0b9ec3f2",
   "metadata": {
    "scrolled": true
   },
   "outputs": [],
   "source": [
    "def cleaning_companies_df(df):\n",
    "\n",
    "    df = df.explode(\"offices\")\n",
    "    df.reset_index(drop=True)\n",
    "    \n",
    "    cities = []\n",
    "    latitudes = []\n",
    "    longitudes = []\n",
    "    addresses = []\n",
    "    money = []\n",
    "\n",
    "    for index, row in df.iterrows():\n",
    "\n",
    "        try:\n",
    "            cities.append(row[\"offices\"][\"city\"])\n",
    "            latitudes.append(row[\"offices\"][\"latitude\"])\n",
    "            longitudes.append(row[\"offices\"][\"longitude\"])\n",
    "\n",
    "        except IndexError:\n",
    "            cities.append(None)\n",
    "            latitudes.append(None)\n",
    "            longitudes.append(None)\n",
    "\n",
    "\n",
    "    df[\"city\"] = cities\n",
    "    df[\"latitude\"] = latitudes\n",
    "    df[\"longitude\"] = longitudes\n",
    "    \n",
    "    df = df.drop(\"offices\", axis=1)\n",
    "    \n",
    "    df[\"total_money_raised\"] = df[\"total_money_raised\"].replace('M|\\$|€|C|£', \"\", regex = True).replace('B', \"000\", regex = True)\n",
    "    df[\"total_money_raised\"] = pd.to_numeric(df[\"total_money_raised\"])\n",
    "\n",
    "    df.to_csv(\"filtered_companies.csv\", index=False)\n",
    "    \n",
    "    return df\n"
   ]
  },
  {
   "cell_type": "code",
   "execution_count": 34,
   "id": "75d46356",
   "metadata": {},
   "outputs": [],
   "source": [
    "df2 = cleaning_companies_df(df)"
   ]
  },
  {
   "cell_type": "code",
   "execution_count": 35,
   "id": "52e650b1",
   "metadata": {},
   "outputs": [
    {
     "data": {
      "text/html": [
       "<div>\n",
       "<style scoped>\n",
       "    .dataframe tbody tr th:only-of-type {\n",
       "        vertical-align: middle;\n",
       "    }\n",
       "\n",
       "    .dataframe tbody tr th {\n",
       "        vertical-align: top;\n",
       "    }\n",
       "\n",
       "    .dataframe thead th {\n",
       "        text-align: right;\n",
       "    }\n",
       "</style>\n",
       "<table border=\"1\" class=\"dataframe\">\n",
       "  <thead>\n",
       "    <tr style=\"text-align: right;\">\n",
       "      <th></th>\n",
       "      <th>name</th>\n",
       "      <th>total_money_raised</th>\n",
       "      <th>offices</th>\n",
       "    </tr>\n",
       "  </thead>\n",
       "  <tbody>\n",
       "    <tr>\n",
       "      <th>0</th>\n",
       "      <td>Wetpaint</td>\n",
       "      <td>$39.8M</td>\n",
       "      <td>[{'city': 'Seattle', 'latitude': 47.603122, 'l...</td>\n",
       "    </tr>\n",
       "  </tbody>\n",
       "</table>\n",
       "</div>"
      ],
      "text/plain": [
       "       name total_money_raised  \\\n",
       "0  Wetpaint             $39.8M   \n",
       "\n",
       "                                             offices  \n",
       "0  [{'city': 'Seattle', 'latitude': 47.603122, 'l...  "
      ]
     },
     "execution_count": 35,
     "metadata": {},
     "output_type": "execute_result"
    }
   ],
   "source": [
    "df.head(1)"
   ]
  },
  {
   "cell_type": "code",
   "execution_count": 36,
   "id": "3d4fd276",
   "metadata": {},
   "outputs": [],
   "source": [
    "# cities = []\n",
    "# latitudes = []\n",
    "# longitudes = []\n",
    "# addresses = []\n",
    "# money = []\n",
    "\n",
    "# for index, row in df.iterrows():\n",
    "    \n",
    "#     try:\n",
    "#         cities.append(row[\"offices\"][\"city\"])\n",
    "#         latitudes.append(row[\"offices\"][\"latitude\"])\n",
    "#         longitudes.append(row[\"offices\"][\"longitude\"])\n",
    "    \n",
    "#     except IndexError:\n",
    "#         cities.append(None)\n",
    "#         latitudes.append(None)\n",
    "#         longitudes.append(None)\n",
    "\n",
    "    \n",
    "# df[\"city\"] = cities\n",
    "# df[\"latitude\"] = latitudes\n",
    "# df[\"longitude\"] = longitudes"
   ]
  },
  {
   "cell_type": "code",
   "execution_count": 37,
   "id": "d9dca9c8",
   "metadata": {},
   "outputs": [],
   "source": [
    "# df.city.value_counts().head(5) \n",
    "# Instead of Palo Alto, London. Being in Europe makes it easier for the employees\n",
    "# to network with successful companies and/or employees from different countries and cultures.\n",
    "# The US is massively big, so traveling to other countries for work becomes difficult."
   ]
  },
  {
   "cell_type": "code",
   "execution_count": 38,
   "id": "00eeec72",
   "metadata": {
    "scrolled": true
   },
   "outputs": [],
   "source": [
    "# df2 = df.copy()\n",
    "# df2[\"total_money_raised\"] = df2[\"total_money_raised\"].replace('M|\\$|€|C|£', \"\", regex = True).replace('B', \"000\", regex = True)\n",
    "# df2[\"total_money_raised\"] = pd.to_numeric(df2[\"total_money_raised\"])\n",
    "\n",
    "# df2[\"total_money_raised\"].max()\n",
    "\n",
    "# df2.to_csv(\"filtered_companies.csv\", index=False)\n"
   ]
  },
  {
   "cell_type": "code",
   "execution_count": 39,
   "id": "0bf9c15c",
   "metadata": {},
   "outputs": [
    {
     "data": {
      "text/html": [
       "<div>\n",
       "<style scoped>\n",
       "    .dataframe tbody tr th:only-of-type {\n",
       "        vertical-align: middle;\n",
       "    }\n",
       "\n",
       "    .dataframe tbody tr th {\n",
       "        vertical-align: top;\n",
       "    }\n",
       "\n",
       "    .dataframe thead th {\n",
       "        text-align: right;\n",
       "    }\n",
       "</style>\n",
       "<table border=\"1\" class=\"dataframe\">\n",
       "  <thead>\n",
       "    <tr style=\"text-align: right;\">\n",
       "      <th></th>\n",
       "      <th>city</th>\n",
       "      <th>name</th>\n",
       "      <th>total_money_raised</th>\n",
       "      <th>latitude</th>\n",
       "      <th>longitude</th>\n",
       "    </tr>\n",
       "  </thead>\n",
       "  <tbody>\n",
       "    <tr>\n",
       "      <th>0</th>\n",
       "      <td>London</td>\n",
       "      <td>OANDA</td>\n",
       "      <td>117.0</td>\n",
       "      <td>51.519204</td>\n",
       "      <td>-0.162610</td>\n",
       "    </tr>\n",
       "    <tr>\n",
       "      <th>1</th>\n",
       "      <td>New York</td>\n",
       "      <td>AOL</td>\n",
       "      <td>1000.0</td>\n",
       "      <td>40.731132</td>\n",
       "      <td>-73.991931</td>\n",
       "    </tr>\n",
       "    <tr>\n",
       "      <th>2</th>\n",
       "      <td>San Francisco</td>\n",
       "      <td>Xero</td>\n",
       "      <td>244.0</td>\n",
       "      <td>37.779507</td>\n",
       "      <td>-122.390710</td>\n",
       "    </tr>\n",
       "  </tbody>\n",
       "</table>\n",
       "</div>"
      ],
      "text/plain": [
       "            city   name  total_money_raised   latitude   longitude\n",
       "0         London  OANDA               117.0  51.519204   -0.162610\n",
       "1       New York    AOL              1000.0  40.731132  -73.991931\n",
       "2  San Francisco   Xero               244.0  37.779507 -122.390710"
      ]
     },
     "execution_count": 39,
     "metadata": {},
     "output_type": "execute_result"
    }
   ],
   "source": [
    "df3_topcompanies = df2.loc[df2[\"city\"].isin(['San Francisco', 'New York', 'London'])].sort_values(\"total_money_raised\", ascending=False).groupby([\"city\"]).first().reset_index()\n",
    "df3_topcompanies"
   ]
  },
  {
   "cell_type": "code",
   "execution_count": 40,
   "id": "c4c9cb9f",
   "metadata": {},
   "outputs": [],
   "source": [
    "def creating_airports_df(df, city):\n",
    "    \n",
    "    type_ = []\n",
    "\n",
    "    new = df.loc[(airports[\"municipality\"] == city) & (~airports[\"type\"].isin([\"closed\", \"seaplane_base\", \"heliport\"]))]\n",
    "    \n",
    "    new = new.filter(['name','latitude_deg','longitude_deg', 'municipality'], axis=1).reset_index(drop=True)\n",
    "    \n",
    "    new.rename(columns = {'latitude_deg': 'lat', 'longitude_deg': 'lon', 'municipality':'city'}, inplace=True)\n",
    "    \n",
    "    for index, row in new.iterrows():\n",
    "        type_.append({\"typepoint\": {\"type\": \"Point\", \"coordinates\": [row[\"lat\"], row[\"lon\"]]}})\n",
    "        \n",
    "    new['type'] = pd.Series(type_)\n",
    "    new['address'] = None\n",
    "    new['type_of_place'] = 'Airport'\n",
    "\n",
    "    return new\n",
    "\n"
   ]
  },
  {
   "cell_type": "code",
   "execution_count": 41,
   "id": "abffb3ab",
   "metadata": {},
   "outputs": [],
   "source": [
    "airports = pd.read_csv(\"../Project_3_Company_Headquarters/dataframes/airports.csv\")\n",
    "\n",
    "airports_london = creating_airports_df(airports, \"London\")\n",
    "airports_newyork = creating_airports_df(airports, \"New York\")\n",
    "airports_sanfrancisco = creating_airports_df(airports, \"San Francisco\")"
   ]
  },
  {
   "cell_type": "code",
   "execution_count": null,
   "id": "7a6734f0",
   "metadata": {},
   "outputs": [],
   "source": []
  },
  {
   "cell_type": "code",
   "execution_count": 42,
   "id": "b158393f",
   "metadata": {},
   "outputs": [],
   "source": [
    "# def type_airports_dfs (list_):\n",
    "#     type_ = []\n",
    "    \n",
    "#     for df in list_:\n",
    "#         for index, row in df.iterrows():\n",
    "#             type_.append({\"typepoint\": {\"type\": \"Point\", \"coordinates\": [row[\"lat\"], row[\"lon\"]]}})\n",
    "#         df['type'] = pd.Series(type_)\n",
    "#         df['address'] = None\n",
    "#         df['type_of_place'] = 'Airport'"
   ]
  },
  {
   "cell_type": "code",
   "execution_count": 43,
   "id": "71062532",
   "metadata": {},
   "outputs": [],
   "source": [
    "# list_ = [airports_newyork, airports_london, airports_sanfrancisco]\n",
    "\n",
    "# type_airports_dfs(list_)"
   ]
  },
  {
   "cell_type": "markdown",
   "id": "45b1b490",
   "metadata": {},
   "source": [
    "# Accessing the API"
   ]
  },
  {
   "cell_type": "code",
   "execution_count": 44,
   "id": "9d5c2a28",
   "metadata": {},
   "outputs": [
    {
     "data": {
      "text/plain": [
       "'fsq3+bzNB46UzQcV4R4Uc5gDnPvzCPqR93jv1QubIBPd4oY='"
      ]
     },
     "execution_count": 44,
     "metadata": {},
     "output_type": "execute_result"
    }
   ],
   "source": [
    "token_fsq = os.getenv(\"key\")\n",
    "token_fsq"
   ]
  },
  {
   "cell_type": "code",
   "execution_count": 45,
   "id": "b55df5f5",
   "metadata": {},
   "outputs": [],
   "source": [
    "def get_results_from_foursquare (query, location, limit):\n",
    "\n",
    "    ll = f\"{location[1]}%2C{location[0]}\"\n",
    "    url = f\"https://api.foursquare.com/v3/places/search?query={query}&ll={ll}&sort=DISTANCE&limit={str(limit)}\"\n",
    "\n",
    "    headers = {\n",
    "        \"accept\": \"application/json\",\n",
    "        \"Authorization\": token_fsq,\n",
    "    }\n",
    "\n",
    "    response = requests.get(url, headers=headers).json()\n",
    "    \n",
    "    return response"
   ]
  },
  {
   "cell_type": "code",
   "execution_count": 46,
   "id": "d2bc3c7f",
   "metadata": {},
   "outputs": [],
   "source": [
    "def making_requests(query):\n",
    "    \n",
    "    location = []\n",
    "    dict_of_dfs = dict()\n",
    "\n",
    "    for index, row in df3_topcompanies.iterrows():\n",
    "\n",
    "        location.append(row[\"longitude\"])\n",
    "        location.append(row[\"latitude\"])\n",
    "\n",
    "        places = get_results_from_foursquare(query, location, 50)\n",
    "        print(places)\n",
    "\n",
    "        dict_of_dfs[row[\"city\"]] = creating_dfs(places, query, row[\"city\"])\n",
    "\n",
    "        location = []\n",
    "               \n",
    "    return dict_of_dfs"
   ]
  },
  {
   "cell_type": "code",
   "execution_count": 47,
   "id": "0364608a",
   "metadata": {},
   "outputs": [],
   "source": [
    "def creating_dfs(res, type_of_place, city):\n",
    "    \n",
    "    new_list = []\n",
    "    \n",
    "    for i in res[\"results\"]:\n",
    "    \n",
    "        name = i[\"name\"]\n",
    "        address =  i[\"location\"][\"formatted_address\"]\n",
    "        lat = i[\"geocodes\"][\"main\"][\"latitude\"]\n",
    "        lon = i[\"geocodes\"][\"main\"][\"longitude\"]\n",
    "\n",
    "        type_ = {\"typepoint\": \n",
    "                              {\"type\": \"Point\", \n",
    "                               \"coordinates\": [lat, lon]}}\n",
    "\n",
    "        new_list.append({\"name\":name, \"lat\":lat, \"lon\":lon, \"city\": city, \"type\":type_, \"address\": address, \"type_of_place\": type_of_place})\n",
    "        \n",
    "    df = pd.DataFrame.from_records(new_list)\n",
    "        \n",
    "    return df\n"
   ]
  },
  {
   "cell_type": "code",
   "execution_count": null,
   "id": "77e52a9c",
   "metadata": {
    "scrolled": true
   },
   "outputs": [],
   "source": [
    "bars = making_requests(\"Bar\")\n",
    "nightclubs = making_requests(\"Night Club\")\n",
    "elementary_schools = making_requests(\"Elementary School\")\n",
    "nurseries = making_requests(\"Nursery School\")\n"
   ]
  },
  {
   "cell_type": "code",
   "execution_count": 49,
   "id": "a3838da3",
   "metadata": {},
   "outputs": [],
   "source": [
    "#df2.to_csv(\"filtered_companies.csv\", index=False)\n"
   ]
  },
  {
   "cell_type": "code",
   "execution_count": 50,
   "id": "0f5bbdc9",
   "metadata": {},
   "outputs": [],
   "source": [
    "bars1 = bars\n",
    "nightclubs1 = nightclubs\n",
    "elementary_schools1 = elementary_schools\n",
    "nurseries1 = nurseries\n"
   ]
  },
  {
   "cell_type": "code",
   "execution_count": 51,
   "id": "71680915",
   "metadata": {},
   "outputs": [],
   "source": [
    "# def names(word, dic):\n",
    "    \n",
    "#     for value in dic.values():\n",
    "        \n",
    "#         value[\"type_of_place\"] = word\n",
    "#         \n",
    "        \n",
    "# names(\"Bar\", bars)\n",
    "# names(\"Night Club\", nightclubs)\n",
    "# names(\"Elementary School\", elementary_schools)\n",
    "# names(\"Nursery School\", nurseries)"
   ]
  },
  {
   "cell_type": "code",
   "execution_count": 52,
   "id": "c61ce7e8",
   "metadata": {},
   "outputs": [],
   "source": [
    "def distances(df, dic):\n",
    "    \n",
    "    distance_from_company = []\n",
    "    \n",
    "    for index, row in df.iterrows():\n",
    "        company_loc = (row[\"latitude\"], row[\"longitude\"])\n",
    "        \n",
    "        for df in dic.values():\n",
    "            \n",
    "            for index2, row2 in df.iterrows():\n",
    "            \n",
    "                try:\n",
    "\n",
    "                    location = (row2[\"lat\"], row2[\"lon\"])\n",
    "\n",
    "                    distance_from_company.append(hs.haversine(location, company_loc))\n",
    "                    print(distance_from_company)\n",
    "        \n",
    "\n",
    "                except TypeError:\n",
    "                    distance_from_company.append(None)\n",
    "                \n",
    "            df[\"distance_from_company\"] = pd.Series(distance_from_company)\n"
   ]
  },
  {
   "cell_type": "code",
   "execution_count": 68,
   "id": "7217c7fa",
   "metadata": {},
   "outputs": [],
   "source": [
    "# air = {\"London\" : airports_london,\n",
    "#       \"New York\": airports_newyork,\n",
    "#       \"San Francisco\": airports_sanfrancisco}\n",
    "\n",
    "# airports1 = air\n",
    "\n",
    "# distances(df3_topcompanies, nurseries)\n",
    "# distances(df3_topcompanies, bars)\n",
    "# distances(df3_topcompanies, nightclubs)\n",
    "# distances(df3_topcompanies, elementary_schools)\n",
    "distances(df3_topcompanies, air) ##why is the first value always wrong?\n"
   ]
  },
  {
   "cell_type": "code",
   "execution_count": 108,
   "id": "9679bb73",
   "metadata": {},
   "outputs": [
    {
     "ename": "ValueError",
     "evalue": "The truth value of a Series is ambiguous. Use a.empty, a.bool(), a.item(), a.any() or a.all().",
     "output_type": "error",
     "traceback": [
      "\u001b[1;31m---------------------------------------------------------------------------\u001b[0m",
      "\u001b[1;31mValueError\u001b[0m                                Traceback (most recent call last)",
      "Input \u001b[1;32mIn [108]\u001b[0m, in \u001b[0;36m<cell line: 1>\u001b[1;34m()\u001b[0m\n\u001b[1;32m----> 1\u001b[0m \u001b[43mhs\u001b[49m\u001b[38;5;241;43m.\u001b[39;49m\u001b[43mhaversine\u001b[49m\u001b[43m(\u001b[49m\u001b[43m(\u001b[49m\u001b[43mair\u001b[49m\u001b[43m[\u001b[49m\u001b[38;5;124;43m\"\u001b[39;49m\u001b[38;5;124;43mNew York\u001b[39;49m\u001b[38;5;124;43m\"\u001b[39;49m\u001b[43m]\u001b[49m\u001b[43m[\u001b[49m\u001b[38;5;124;43m\"\u001b[39;49m\u001b[38;5;124;43mlat\u001b[39;49m\u001b[38;5;124;43m\"\u001b[39;49m\u001b[43m]\u001b[49m\u001b[38;5;241;43m.\u001b[39;49m\u001b[43mhead\u001b[49m\u001b[43m(\u001b[49m\u001b[38;5;241;43m1\u001b[39;49m\u001b[43m)\u001b[49m\u001b[43m,\u001b[49m\u001b[43m \u001b[49m\u001b[43mair\u001b[49m\u001b[43m[\u001b[49m\u001b[38;5;124;43m\"\u001b[39;49m\u001b[38;5;124;43mNew York\u001b[39;49m\u001b[38;5;124;43m\"\u001b[39;49m\u001b[43m]\u001b[49m\u001b[43m[\u001b[49m\u001b[38;5;124;43m\"\u001b[39;49m\u001b[38;5;124;43mlon\u001b[39;49m\u001b[38;5;124;43m\"\u001b[39;49m\u001b[43m]\u001b[49m\u001b[38;5;241;43m.\u001b[39;49m\u001b[43mhead\u001b[49m\u001b[43m(\u001b[49m\u001b[38;5;241;43m1\u001b[39;49m\u001b[43m)\u001b[49m\u001b[43m)\u001b[49m\u001b[43m,\u001b[49m\u001b[43m \u001b[49m\u001b[43m(\u001b[49m\u001b[38;5;241;43m40.731132\u001b[39;49m\u001b[43m,\u001b[49m\u001b[43m \u001b[49m\u001b[38;5;241;43m-\u001b[39;49m\u001b[38;5;241;43m73.991931\u001b[39;49m\u001b[43m)\u001b[49m\u001b[43m)\u001b[49m\n",
      "File \u001b[1;32m~\\miniconda3\\envs\\ironhack\\lib\\site-packages\\haversine\\haversine.py:119\u001b[0m, in \u001b[0;36mhaversine\u001b[1;34m(point1, point2, unit, normalize)\u001b[0m\n\u001b[0;32m    117\u001b[0m     lat2, lng2 \u001b[38;5;241m=\u001b[39m _normalize(lat2, lng2)\n\u001b[0;32m    118\u001b[0m \u001b[38;5;28;01melse\u001b[39;00m:\n\u001b[1;32m--> 119\u001b[0m     \u001b[43m_ensure_lat_lon\u001b[49m\u001b[43m(\u001b[49m\u001b[43mlat1\u001b[49m\u001b[43m,\u001b[49m\u001b[43m \u001b[49m\u001b[43mlng1\u001b[49m\u001b[43m)\u001b[49m\n\u001b[0;32m    120\u001b[0m     _ensure_lat_lon(lat2, lng2)\n\u001b[0;32m    122\u001b[0m \u001b[38;5;66;03m# convert all latitudes/longitudes from decimal degrees to radians\u001b[39;00m\n",
      "File \u001b[1;32m~\\miniconda3\\envs\\ironhack\\lib\\site-packages\\haversine\\haversine.py:79\u001b[0m, in \u001b[0;36m_ensure_lat_lon\u001b[1;34m(lat, lon)\u001b[0m\n\u001b[0;32m     75\u001b[0m \u001b[38;5;28;01mdef\u001b[39;00m \u001b[38;5;21m_ensure_lat_lon\u001b[39m(lat: \u001b[38;5;28mfloat\u001b[39m, lon: \u001b[38;5;28mfloat\u001b[39m):\n\u001b[0;32m     76\u001b[0m     \u001b[38;5;124;03m\"\"\"\u001b[39;00m\n\u001b[0;32m     77\u001b[0m \u001b[38;5;124;03m    Ensure that the given latitude and longitude have proper values. An exception is raised if they are not.\u001b[39;00m\n\u001b[0;32m     78\u001b[0m \u001b[38;5;124;03m    \"\"\"\u001b[39;00m\n\u001b[1;32m---> 79\u001b[0m     \u001b[38;5;28;01mif\u001b[39;00m \u001b[43mlat\u001b[49m\u001b[43m \u001b[49m\u001b[38;5;241;43m<\u001b[39;49m\u001b[43m \u001b[49m\u001b[38;5;241;43m-\u001b[39;49m\u001b[38;5;241;43m90\u001b[39;49m \u001b[38;5;129;01mor\u001b[39;00m lat \u001b[38;5;241m>\u001b[39m \u001b[38;5;241m90\u001b[39m:\n\u001b[0;32m     80\u001b[0m         \u001b[38;5;28;01mraise\u001b[39;00m \u001b[38;5;167;01mValueError\u001b[39;00m(\u001b[38;5;124mf\u001b[39m\u001b[38;5;124m\"\u001b[39m\u001b[38;5;124mLatitude \u001b[39m\u001b[38;5;132;01m{\u001b[39;00mlat\u001b[38;5;132;01m}\u001b[39;00m\u001b[38;5;124m is out of range [-90, 90]\u001b[39m\u001b[38;5;124m\"\u001b[39m)\n\u001b[0;32m     81\u001b[0m     \u001b[38;5;28;01mif\u001b[39;00m lon \u001b[38;5;241m<\u001b[39m \u001b[38;5;241m-\u001b[39m\u001b[38;5;241m180\u001b[39m \u001b[38;5;129;01mor\u001b[39;00m lon \u001b[38;5;241m>\u001b[39m \u001b[38;5;241m180\u001b[39m:\n",
      "File \u001b[1;32m~\\miniconda3\\envs\\ironhack\\lib\\site-packages\\pandas\\core\\generic.py:1526\u001b[0m, in \u001b[0;36mNDFrame.__nonzero__\u001b[1;34m(self)\u001b[0m\n\u001b[0;32m   1524\u001b[0m \u001b[38;5;129m@final\u001b[39m\n\u001b[0;32m   1525\u001b[0m \u001b[38;5;28;01mdef\u001b[39;00m \u001b[38;5;21m__nonzero__\u001b[39m(\u001b[38;5;28mself\u001b[39m) \u001b[38;5;241m-\u001b[39m\u001b[38;5;241m>\u001b[39m NoReturn:\n\u001b[1;32m-> 1526\u001b[0m     \u001b[38;5;28;01mraise\u001b[39;00m \u001b[38;5;167;01mValueError\u001b[39;00m(\n\u001b[0;32m   1527\u001b[0m         \u001b[38;5;124mf\u001b[39m\u001b[38;5;124m\"\u001b[39m\u001b[38;5;124mThe truth value of a \u001b[39m\u001b[38;5;132;01m{\u001b[39;00m\u001b[38;5;28mtype\u001b[39m(\u001b[38;5;28mself\u001b[39m)\u001b[38;5;241m.\u001b[39m\u001b[38;5;18m__name__\u001b[39m\u001b[38;5;132;01m}\u001b[39;00m\u001b[38;5;124m is ambiguous. \u001b[39m\u001b[38;5;124m\"\u001b[39m\n\u001b[0;32m   1528\u001b[0m         \u001b[38;5;124m\"\u001b[39m\u001b[38;5;124mUse a.empty, a.bool(), a.item(), a.any() or a.all().\u001b[39m\u001b[38;5;124m\"\u001b[39m\n\u001b[0;32m   1529\u001b[0m     )\n",
      "\u001b[1;31mValueError\u001b[0m: The truth value of a Series is ambiguous. Use a.empty, a.bool(), a.item(), a.any() or a.all()."
     ]
    }
   ],
   "source": [
    "hs.haversine((air[\"New York\"][\"lat\"].head(1), air[\"New York\"][\"lon\"].head(1)), (40.731132, -73.991931))"
   ]
  },
  {
   "cell_type": "code",
   "execution_count": 107,
   "id": "26274f7b",
   "metadata": {},
   "outputs": [
    {
     "data": {
      "text/plain": [
       "dtype('float64')"
      ]
     },
     "execution_count": 107,
     "metadata": {},
     "output_type": "execute_result"
    }
   ],
   "source": [
    "air[\"New York\"][\"lon\"].dtypes"
   ]
  },
  {
   "cell_type": "code",
   "execution_count": 54,
   "id": "a09e088f",
   "metadata": {},
   "outputs": [],
   "source": [
    "\n",
    "def concat_dfs(list_, city):\n",
    "    \n",
    "    df1 = pd.DataFrame()\n",
    "    \n",
    "    for dic in list_:\n",
    "\n",
    "        for df in dic.values():                \n",
    "\n",
    "            if df[\"city\"].iloc[0] == city:\n",
    "                df1 = pd.concat([df1, df], axis=0, join= \"outer\").reset_index(drop = True)\n",
    "\n",
    "    return df1\n",
    "\n"
   ]
  },
  {
   "cell_type": "code",
   "execution_count": null,
   "id": "dc523223",
   "metadata": {
    "scrolled": true
   },
   "outputs": [],
   "source": [
    "london = concat_dfs([bars, nightclubs, nurseries, elementary_schools, air], \"London\")\n",
    "new_york = concat_dfs([bars, nightclubs, nurseries, elementary_schools, air], \"New York\")\n",
    "san_francisco = concat_dfs([bars, nightclubs, nurseries, elementary_schools, air], \"San Francisco\")"
   ]
  },
  {
   "cell_type": "code",
   "execution_count": 61,
   "id": "67e92b9c",
   "metadata": {},
   "outputs": [
    {
     "data": {
      "text/html": [
       "<div>\n",
       "<style scoped>\n",
       "    .dataframe tbody tr th:only-of-type {\n",
       "        vertical-align: middle;\n",
       "    }\n",
       "\n",
       "    .dataframe tbody tr th {\n",
       "        vertical-align: top;\n",
       "    }\n",
       "\n",
       "    .dataframe thead th {\n",
       "        text-align: right;\n",
       "    }\n",
       "</style>\n",
       "<table border=\"1\" class=\"dataframe\">\n",
       "  <thead>\n",
       "    <tr style=\"text-align: right;\">\n",
       "      <th></th>\n",
       "      <th>name</th>\n",
       "      <th>lat</th>\n",
       "      <th>lon</th>\n",
       "      <th>city</th>\n",
       "      <th>type</th>\n",
       "      <th>address</th>\n",
       "      <th>type_of_place</th>\n",
       "      <th>distance_from_company</th>\n",
       "    </tr>\n",
       "  </thead>\n",
       "  <tbody>\n",
       "    <tr>\n",
       "      <th>0</th>\n",
       "      <td>Knickerbocker Bar &amp; Grill</td>\n",
       "      <td>40.731887</td>\n",
       "      <td>-73.994365</td>\n",
       "      <td>New York</td>\n",
       "      <td>{'typepoint': {'type': 'Point', 'coordinates':...</td>\n",
       "      <td>33 University Pl (at E 9th St.), New York, NY ...</td>\n",
       "      <td>Bar</td>\n",
       "      <td>0.260102</td>\n",
       "    </tr>\n",
       "    <tr>\n",
       "      <th>1</th>\n",
       "      <td>Spot Dessert Bar</td>\n",
       "      <td>40.729281</td>\n",
       "      <td>-73.988979</td>\n",
       "      <td>New York</td>\n",
       "      <td>{'typepoint': {'type': 'Point', 'coordinates':...</td>\n",
       "      <td>13 Saint Marks Pl (btwn 2nd &amp; 3rd Ave), New Yo...</td>\n",
       "      <td>Bar</td>\n",
       "      <td>0.292434</td>\n",
       "    </tr>\n",
       "    <tr>\n",
       "      <th>2</th>\n",
       "      <td>McSorley's Old Ale House</td>\n",
       "      <td>40.728764</td>\n",
       "      <td>-73.989690</td>\n",
       "      <td>New York</td>\n",
       "      <td>{'typepoint': {'type': 'Point', 'coordinates':...</td>\n",
       "      <td>15 E 7th St (btwn Cooper Sq &amp; 3rd Ave), New Yo...</td>\n",
       "      <td>Bar</td>\n",
       "      <td>0.339272</td>\n",
       "    </tr>\n",
       "    <tr>\n",
       "      <th>3</th>\n",
       "      <td>No Bar</td>\n",
       "      <td>40.727883</td>\n",
       "      <td>-73.990802</td>\n",
       "      <td>New York</td>\n",
       "      <td>{'typepoint': {'type': 'Point', 'coordinates':...</td>\n",
       "      <td>25 Cooper Sq, New York, NY 10003</td>\n",
       "      <td>Bar</td>\n",
       "      <td>0.325491</td>\n",
       "    </tr>\n",
       "    <tr>\n",
       "      <th>4</th>\n",
       "      <td>Sake Bar Decibel</td>\n",
       "      <td>40.729209</td>\n",
       "      <td>-73.987667</td>\n",
       "      <td>New York</td>\n",
       "      <td>{'typepoint': {'type': 'Point', 'coordinates':...</td>\n",
       "      <td>240 E 9th St (btwn 2nd &amp; 3rd Ave), New York, N...</td>\n",
       "      <td>Bar</td>\n",
       "      <td>0.359259</td>\n",
       "    </tr>\n",
       "    <tr>\n",
       "      <th>...</th>\n",
       "      <td>...</td>\n",
       "      <td>...</td>\n",
       "      <td>...</td>\n",
       "      <td>...</td>\n",
       "      <td>...</td>\n",
       "      <td>...</td>\n",
       "      <td>...</td>\n",
       "      <td>...</td>\n",
       "    </tr>\n",
       "    <tr>\n",
       "      <th>198</th>\n",
       "      <td>George Washington Elementary School</td>\n",
       "      <td>40.706213</td>\n",
       "      <td>-74.228157</td>\n",
       "      <td>New York</td>\n",
       "      <td>{'typepoint': {'type': 'Point', 'coordinates':...</td>\n",
       "      <td>1530 Leslie St, Hillside, NJ 07205</td>\n",
       "      <td>Elementary School</td>\n",
       "      <td>12.693778</td>\n",
       "    </tr>\n",
       "    <tr>\n",
       "      <th>199</th>\n",
       "      <td>Lincoln Elementary School</td>\n",
       "      <td>40.917423</td>\n",
       "      <td>-74.007476</td>\n",
       "      <td>New York</td>\n",
       "      <td>{'typepoint': {'type': 'Point', 'coordinates':...</td>\n",
       "      <td>115 Highview Ave (Schoolcraft Rd), Bergenfield...</td>\n",
       "      <td>Elementary School</td>\n",
       "      <td>12.903635</td>\n",
       "    </tr>\n",
       "    <tr>\n",
       "      <th>200</th>\n",
       "      <td>Whaley Farm Airstrip</td>\n",
       "      <td>53.067137</td>\n",
       "      <td>-0.148616</td>\n",
       "      <td>New York</td>\n",
       "      <td>{'typepoint': {'type': 'Point', 'coordinates':...</td>\n",
       "      <td>None</td>\n",
       "      <td>Airport</td>\n",
       "      <td>6496.379543</td>\n",
       "    </tr>\n",
       "    <tr>\n",
       "      <th>201</th>\n",
       "      <td>John F Kennedy International Airport</td>\n",
       "      <td>40.639447</td>\n",
       "      <td>-73.779317</td>\n",
       "      <td>New York</td>\n",
       "      <td>{'typepoint': {'type': 'Point', 'coordinates':...</td>\n",
       "      <td>None</td>\n",
       "      <td>Airport</td>\n",
       "      <td>5860.177410</td>\n",
       "    </tr>\n",
       "    <tr>\n",
       "      <th>202</th>\n",
       "      <td>La Guardia Airport</td>\n",
       "      <td>40.777199</td>\n",
       "      <td>-73.872597</td>\n",
       "      <td>New York</td>\n",
       "      <td>{'typepoint': {'type': 'Point', 'coordinates':...</td>\n",
       "      <td>None</td>\n",
       "      <td>Airport</td>\n",
       "      <td>5864.933732</td>\n",
       "    </tr>\n",
       "  </tbody>\n",
       "</table>\n",
       "<p>203 rows × 8 columns</p>\n",
       "</div>"
      ],
      "text/plain": [
       "                                     name        lat        lon      city  \\\n",
       "0               Knickerbocker Bar & Grill  40.731887 -73.994365  New York   \n",
       "1                        Spot Dessert Bar  40.729281 -73.988979  New York   \n",
       "2                McSorley's Old Ale House  40.728764 -73.989690  New York   \n",
       "3                                  No Bar  40.727883 -73.990802  New York   \n",
       "4                        Sake Bar Decibel  40.729209 -73.987667  New York   \n",
       "..                                    ...        ...        ...       ...   \n",
       "198   George Washington Elementary School  40.706213 -74.228157  New York   \n",
       "199             Lincoln Elementary School  40.917423 -74.007476  New York   \n",
       "200                  Whaley Farm Airstrip  53.067137  -0.148616  New York   \n",
       "201  John F Kennedy International Airport  40.639447 -73.779317  New York   \n",
       "202                    La Guardia Airport  40.777199 -73.872597  New York   \n",
       "\n",
       "                                                  type  \\\n",
       "0    {'typepoint': {'type': 'Point', 'coordinates':...   \n",
       "1    {'typepoint': {'type': 'Point', 'coordinates':...   \n",
       "2    {'typepoint': {'type': 'Point', 'coordinates':...   \n",
       "3    {'typepoint': {'type': 'Point', 'coordinates':...   \n",
       "4    {'typepoint': {'type': 'Point', 'coordinates':...   \n",
       "..                                                 ...   \n",
       "198  {'typepoint': {'type': 'Point', 'coordinates':...   \n",
       "199  {'typepoint': {'type': 'Point', 'coordinates':...   \n",
       "200  {'typepoint': {'type': 'Point', 'coordinates':...   \n",
       "201  {'typepoint': {'type': 'Point', 'coordinates':...   \n",
       "202  {'typepoint': {'type': 'Point', 'coordinates':...   \n",
       "\n",
       "                                               address      type_of_place  \\\n",
       "0    33 University Pl (at E 9th St.), New York, NY ...                Bar   \n",
       "1    13 Saint Marks Pl (btwn 2nd & 3rd Ave), New Yo...                Bar   \n",
       "2    15 E 7th St (btwn Cooper Sq & 3rd Ave), New Yo...                Bar   \n",
       "3                     25 Cooper Sq, New York, NY 10003                Bar   \n",
       "4    240 E 9th St (btwn 2nd & 3rd Ave), New York, N...                Bar   \n",
       "..                                                 ...                ...   \n",
       "198                 1530 Leslie St, Hillside, NJ 07205  Elementary School   \n",
       "199  115 Highview Ave (Schoolcraft Rd), Bergenfield...  Elementary School   \n",
       "200                                               None            Airport   \n",
       "201                                               None            Airport   \n",
       "202                                               None            Airport   \n",
       "\n",
       "     distance_from_company  \n",
       "0                 0.260102  \n",
       "1                 0.292434  \n",
       "2                 0.339272  \n",
       "3                 0.325491  \n",
       "4                 0.359259  \n",
       "..                     ...  \n",
       "198              12.693778  \n",
       "199              12.903635  \n",
       "200            6496.379543  \n",
       "201            5860.177410  \n",
       "202            5864.933732  \n",
       "\n",
       "[203 rows x 8 columns]"
      ]
     },
     "execution_count": 61,
     "metadata": {},
     "output_type": "execute_result"
    }
   ],
   "source": [
    "new_york\n"
   ]
  },
  {
   "cell_type": "code",
   "execution_count": 59,
   "id": "90d237c8",
   "metadata": {},
   "outputs": [],
   "source": [
    "# london.to_csv(\"london_places.csv\", index=False)\n",
    "# new_york.to_csv(\"ny_places.csv\", index=False)\n",
    "# san_francisco.to_csv(\"sanfrancisco_places.csv\", index=False)\n"
   ]
  },
  {
   "cell_type": "code",
   "execution_count": 98,
   "id": "f8f75293",
   "metadata": {},
   "outputs": [],
   "source": [
    "def city_weights(df):\n",
    "    \n",
    "    city = df[\"city\"].iloc[0] \n",
    "    weights = {\"bars\" : round((df.loc[df[\"type_of_place\"] == \"Bar\"][\"distance_from_company\"].head(5).mean())*0.6, 2),\n",
    "                \"nightclubs\" : round((df.loc[df[\"type_of_place\"] == \"Night Club\"][\"distance_from_company\"].head(5).mean())*0.6, 2),\n",
    "                \"elementary_schools\": round(df.loc[df[\"type_of_place\"] == \"Elementary School\"][\"distance_from_company\"].min()*0.8, 2),\n",
    "                \"nurseries\": round(df.loc[df[\"type_of_place\"] == \"Nursery School\"][\"distance_from_company\"].min()*0.8, 1),\n",
    "                \"airports\": round(df.loc[df[\"type_of_place\"] == \"Airport\"][\"distance_from_company\"].min(), 1),\n",
    "                'city' : city\n",
    "}\n",
    "    return weights\n",
    "\n",
    "    "
   ]
  },
  {
   "cell_type": "code",
   "execution_count": 79,
   "id": "8c5bb9c1",
   "metadata": {},
   "outputs": [
    {
     "data": {
      "text/plain": [
       "0.3153114918252313"
      ]
     },
     "execution_count": 79,
     "metadata": {},
     "output_type": "execute_result"
    }
   ],
   "source": []
  },
  {
   "cell_type": "code",
   "execution_count": 99,
   "id": "f8f69432",
   "metadata": {},
   "outputs": [
    {
     "data": {
      "text/plain": [
       "{'bars': 0.19,\n",
       " 'nightclubs': 1.17,\n",
       " 'elementary_schools': 2.27,\n",
       " 'nurseries': 0.5,\n",
       " 'airports': 15.2,\n",
       " 'city': 'London'}"
      ]
     },
     "execution_count": 99,
     "metadata": {},
     "output_type": "execute_result"
    }
   ],
   "source": [
    "london_weight = city_weights(london)\n",
    "london_weight"
   ]
  },
  {
   "cell_type": "code",
   "execution_count": 100,
   "id": "1bf4cea3",
   "metadata": {},
   "outputs": [],
   "source": [
    "newyork_weight = city_weights(new_york)\n",
    "sanfrancisco_weight = city_weights(san_francisco)"
   ]
  },
  {
   "cell_type": "code",
   "execution_count": 104,
   "id": "46151646",
   "metadata": {},
   "outputs": [],
   "source": [
    "def city_score(city_weight1, city_weight2, city_weight3):\n",
    "    \n",
    "    keys = list(city_weight1.keys())\n",
    "    score = []\n",
    "    \n",
    "    for i in range(len(city_weight1)):\n",
    "    \n",
    "        if (city_weight1[keys[i]] < city_weight2[keys[i]]) & (city_weight1[keys[i]] < city_weight3[keys[i]]):\n",
    "            score.append(city_weight1['city'])\n",
    "            \n",
    "        elif (city_weight2[keys[i]] < city_weight2[keys[i]]) & (city_weight2[keys[i]] < city_weight3[keys[i]]):\n",
    "            score.append(city_weight2['city'])\n",
    "        \n",
    "        elif (city_weight3[keys[i]] < city_weight2[keys[i]]) & (city_weight3[keys[i]] < city_weight1[keys[i]]):\n",
    "            score.append(city_weight3['city'])\n",
    "    \n",
    "    return f\"The best city for the HQ is {s.multimode(score)}\"\n",
    "    "
   ]
  },
  {
   "cell_type": "code",
   "execution_count": 105,
   "id": "cd13f440",
   "metadata": {},
   "outputs": [
    {
     "data": {
      "text/plain": [
       "\"The best city for the HQ is ['London']\""
      ]
     },
     "execution_count": 105,
     "metadata": {},
     "output_type": "execute_result"
    }
   ],
   "source": [
    "city_score(london_weight, newyork_weight, sanfrancisco_weight)"
   ]
  },
  {
   "cell_type": "code",
   "execution_count": null,
   "id": "9206be38",
   "metadata": {},
   "outputs": [],
   "source": []
  }
 ],
 "metadata": {
  "kernelspec": {
   "display_name": "Python 3 (ipykernel)",
   "language": "python",
   "name": "python3"
  },
  "language_info": {
   "codemirror_mode": {
    "name": "ipython",
    "version": 3
   },
   "file_extension": ".py",
   "mimetype": "text/x-python",
   "name": "python",
   "nbconvert_exporter": "python",
   "pygments_lexer": "ipython3",
   "version": "3.10.4"
  },
  "toc": {
   "base_numbering": 1,
   "nav_menu": {},
   "number_sections": true,
   "sideBar": true,
   "skip_h1_title": false,
   "title_cell": "Table of Contents",
   "title_sidebar": "Contents",
   "toc_cell": false,
   "toc_position": {},
   "toc_section_display": true,
   "toc_window_display": false
  }
 },
 "nbformat": 4,
 "nbformat_minor": 5
}
