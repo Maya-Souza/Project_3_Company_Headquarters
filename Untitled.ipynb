{
 "cells": [
  {
   "cell_type": "code",
   "execution_count": 28,
   "id": "7cbb734c",
   "metadata": {},
   "outputs": [
    {
     "data": {
      "text/plain": [
       "True"
      ]
     },
     "execution_count": 28,
     "metadata": {},
     "output_type": "execute_result"
    }
   ],
   "source": [
    "from pymongo import MongoClient\n",
    "import pandas as pd\n",
    "import time\n",
    "\n",
    "import os\n",
    "import requests\n",
    "import json\n",
    "from dotenv import load_dotenv\n",
    "import pandas as pd\n",
    "\n",
    "import geopandas as gpd\n",
    "from cartoframes.viz import Map, Layer, popup_element\n",
    "\n",
    "import folium\n",
    "from folium import Choropleth, Circle, Marker, Icon, Map\n",
    "from folium.plugins import HeatMap, MarkerCluster\n",
    "import pandas as pd\n",
    "\n",
    "import haversine as hs\n",
    "load_dotenv()"
   ]
  },
  {
   "cell_type": "markdown",
   "id": "1dc2c24a",
   "metadata": {},
   "source": [
    "# Filtering and extracting the data"
   ]
  },
  {
   "cell_type": "code",
   "execution_count": 29,
   "id": "63f7b2b1",
   "metadata": {},
   "outputs": [],
   "source": [
    "client = MongoClient(\"localhost:27017\")\n",
    "db = client[\"ironhack\"]\n",
    "c = db.get_collection(\"companies\")"
   ]
  },
  {
   "cell_type": "code",
   "execution_count": 30,
   "id": "0a2a580b",
   "metadata": {
    "scrolled": true
   },
   "outputs": [],
   "source": [
    "# c.distinct(\"category_code\")"
   ]
  },
  {
   "cell_type": "code",
   "execution_count": 31,
   "id": "714de4f9",
   "metadata": {},
   "outputs": [],
   "source": [
    "def filtering_companies():\n",
    "\n",
    "    condition1 = {\"total_money_raised\" : {\"$regex\": \"\\d{2,}\\.?\\d?M|\\d{1,}\\.?\\d?B\"}}\n",
    "    condition2 = {\"tag_list\": {\"$regex\": \".*design.|.tech.|.software.|.fashion.\"}}\n",
    "    condition3 = {\"category_code\": \"web\"}\n",
    "    condition4 = {\"offices\": {\"$ne\": []}}\n",
    "\n",
    "    projection = {\"_id\": 0, \"name\":1, \"offices.city\":1, \"offices.latitude\":1, \"offices.longitude\": 1, \"address1\":1, \"total_money_raised\": 1}\n",
    "\n",
    "    query = {\"$and\": [condition1, condition4, {\"$or\": [condition2, condition3]}]}\n",
    "\n",
    "\n",
    "    filtered_companies = list(c.find(query, projection))\n",
    "    df = pd.DataFrame(filtered_companies)\n",
    "    \n",
    "    return df\n"
   ]
  },
  {
   "cell_type": "code",
   "execution_count": 32,
   "id": "91b856a9",
   "metadata": {
    "scrolled": true
   },
   "outputs": [
    {
     "data": {
      "text/html": [
       "<div>\n",
       "<style scoped>\n",
       "    .dataframe tbody tr th:only-of-type {\n",
       "        vertical-align: middle;\n",
       "    }\n",
       "\n",
       "    .dataframe tbody tr th {\n",
       "        vertical-align: top;\n",
       "    }\n",
       "\n",
       "    .dataframe thead th {\n",
       "        text-align: right;\n",
       "    }\n",
       "</style>\n",
       "<table border=\"1\" class=\"dataframe\">\n",
       "  <thead>\n",
       "    <tr style=\"text-align: right;\">\n",
       "      <th></th>\n",
       "      <th>name</th>\n",
       "      <th>total_money_raised</th>\n",
       "      <th>offices</th>\n",
       "    </tr>\n",
       "  </thead>\n",
       "  <tbody>\n",
       "    <tr>\n",
       "      <th>287</th>\n",
       "      <td>Swype</td>\n",
       "      <td>$13.9M</td>\n",
       "      <td>[{'city': 'Seattle', 'latitude': 47.6495905, '...</td>\n",
       "    </tr>\n",
       "  </tbody>\n",
       "</table>\n",
       "</div>"
      ],
      "text/plain": [
       "      name total_money_raised  \\\n",
       "287  Swype             $13.9M   \n",
       "\n",
       "                                               offices  \n",
       "287  [{'city': 'Seattle', 'latitude': 47.6495905, '...  "
      ]
     },
     "execution_count": 32,
     "metadata": {},
     "output_type": "execute_result"
    }
   ],
   "source": [
    "df = filtering_companies()\n",
    "df.sample(1)"
   ]
  },
  {
   "cell_type": "code",
   "execution_count": 33,
   "id": "a8359e7a",
   "metadata": {
    "scrolled": true
   },
   "outputs": [],
   "source": [
    "def cleaning_companies_df(df):\n",
    "\n",
    "    df = df.explode(\"offices\")\n",
    "    df.reset_index(drop=True)\n",
    "    \n",
    "    cities = []\n",
    "    latitudes = []\n",
    "    longitudes = []\n",
    "    addresses = []\n",
    "    money = []\n",
    "\n",
    "    for index, row in df.iterrows():\n",
    "\n",
    "        try:\n",
    "            cities.append(row[\"offices\"][\"city\"])\n",
    "            latitudes.append(row[\"offices\"][\"latitude\"])\n",
    "            longitudes.append(row[\"offices\"][\"longitude\"])\n",
    "\n",
    "        except IndexError:\n",
    "            cities.append(None)\n",
    "            latitudes.append(None)\n",
    "            longitudes.append(None)\n",
    "\n",
    "\n",
    "    df[\"city\"] = cities\n",
    "    df[\"latitude\"] = latitudes\n",
    "    df[\"longitude\"] = longitudes\n",
    "    \n",
    "    df = df.drop(\"offices\", axis=1)\n",
    "    \n",
    "    df[\"total_money_raised\"] = df[\"total_money_raised\"].replace('M|\\$|€|C|£', \"\", regex = True).replace('B', \"000\", regex = True)\n",
    "    df[\"total_money_raised\"] = pd.to_numeric(df[\"total_money_raised\"])\n",
    "\n",
    "    df.to_csv(\"filtered_companies.csv\", index=False)\n",
    "    \n",
    "    return df\n"
   ]
  },
  {
   "cell_type": "code",
   "execution_count": 34,
   "id": "b8df3281",
   "metadata": {},
   "outputs": [],
   "source": [
    "df2 = cleaning_companies_df(df)"
   ]
  },
  {
   "cell_type": "code",
   "execution_count": 35,
   "id": "1a69af47",
   "metadata": {},
   "outputs": [
    {
     "data": {
      "text/html": [
       "<div>\n",
       "<style scoped>\n",
       "    .dataframe tbody tr th:only-of-type {\n",
       "        vertical-align: middle;\n",
       "    }\n",
       "\n",
       "    .dataframe tbody tr th {\n",
       "        vertical-align: top;\n",
       "    }\n",
       "\n",
       "    .dataframe thead th {\n",
       "        text-align: right;\n",
       "    }\n",
       "</style>\n",
       "<table border=\"1\" class=\"dataframe\">\n",
       "  <thead>\n",
       "    <tr style=\"text-align: right;\">\n",
       "      <th></th>\n",
       "      <th>name</th>\n",
       "      <th>total_money_raised</th>\n",
       "      <th>offices</th>\n",
       "    </tr>\n",
       "  </thead>\n",
       "  <tbody>\n",
       "    <tr>\n",
       "      <th>0</th>\n",
       "      <td>Wetpaint</td>\n",
       "      <td>$39.8M</td>\n",
       "      <td>[{'city': 'Seattle', 'latitude': 47.603122, 'l...</td>\n",
       "    </tr>\n",
       "  </tbody>\n",
       "</table>\n",
       "</div>"
      ],
      "text/plain": [
       "       name total_money_raised  \\\n",
       "0  Wetpaint             $39.8M   \n",
       "\n",
       "                                             offices  \n",
       "0  [{'city': 'Seattle', 'latitude': 47.603122, 'l...  "
      ]
     },
     "execution_count": 35,
     "metadata": {},
     "output_type": "execute_result"
    }
   ],
   "source": [
    "df.head(1)"
   ]
  },
  {
   "cell_type": "code",
   "execution_count": 36,
   "id": "c296c8ca",
   "metadata": {},
   "outputs": [],
   "source": [
    "# cities = []\n",
    "# latitudes = []\n",
    "# longitudes = []\n",
    "# addresses = []\n",
    "# money = []\n",
    "\n",
    "# for index, row in df.iterrows():\n",
    "    \n",
    "#     try:\n",
    "#         cities.append(row[\"offices\"][\"city\"])\n",
    "#         latitudes.append(row[\"offices\"][\"latitude\"])\n",
    "#         longitudes.append(row[\"offices\"][\"longitude\"])\n",
    "    \n",
    "#     except IndexError:\n",
    "#         cities.append(None)\n",
    "#         latitudes.append(None)\n",
    "#         longitudes.append(None)\n",
    "\n",
    "    \n",
    "# df[\"city\"] = cities\n",
    "# df[\"latitude\"] = latitudes\n",
    "# df[\"longitude\"] = longitudes"
   ]
  },
  {
   "cell_type": "code",
   "execution_count": 37,
   "id": "39117cd0",
   "metadata": {},
   "outputs": [],
   "source": [
    "# df.city.value_counts().head(5) \n",
    "# Instead of Palo Alto, London. Being in Europe makes it easier for the employees\n",
    "# to network with successful companies and/or employees from different countries and cultures.\n",
    "# The US is massively big, so traveling to other countries for work becomes difficult."
   ]
  },
  {
   "cell_type": "code",
   "execution_count": 38,
   "id": "34aa08d0",
   "metadata": {
    "scrolled": true
   },
   "outputs": [],
   "source": [
    "# df2 = df.copy()\n",
    "# df2[\"total_money_raised\"] = df2[\"total_money_raised\"].replace('M|\\$|€|C|£', \"\", regex = True).replace('B', \"000\", regex = True)\n",
    "# df2[\"total_money_raised\"] = pd.to_numeric(df2[\"total_money_raised\"])\n",
    "\n",
    "# df2[\"total_money_raised\"].max()\n",
    "\n",
    "# df2.to_csv(\"filtered_companies.csv\", index=False)\n"
   ]
  },
  {
   "cell_type": "code",
   "execution_count": 39,
   "id": "ab941c8a",
   "metadata": {},
   "outputs": [
    {
     "data": {
      "text/html": [
       "<div>\n",
       "<style scoped>\n",
       "    .dataframe tbody tr th:only-of-type {\n",
       "        vertical-align: middle;\n",
       "    }\n",
       "\n",
       "    .dataframe tbody tr th {\n",
       "        vertical-align: top;\n",
       "    }\n",
       "\n",
       "    .dataframe thead th {\n",
       "        text-align: right;\n",
       "    }\n",
       "</style>\n",
       "<table border=\"1\" class=\"dataframe\">\n",
       "  <thead>\n",
       "    <tr style=\"text-align: right;\">\n",
       "      <th></th>\n",
       "      <th>city</th>\n",
       "      <th>name</th>\n",
       "      <th>total_money_raised</th>\n",
       "      <th>latitude</th>\n",
       "      <th>longitude</th>\n",
       "    </tr>\n",
       "  </thead>\n",
       "  <tbody>\n",
       "    <tr>\n",
       "      <th>0</th>\n",
       "      <td>London</td>\n",
       "      <td>OANDA</td>\n",
       "      <td>117.0</td>\n",
       "      <td>51.519204</td>\n",
       "      <td>-0.162610</td>\n",
       "    </tr>\n",
       "    <tr>\n",
       "      <th>1</th>\n",
       "      <td>New York</td>\n",
       "      <td>AOL</td>\n",
       "      <td>1000.0</td>\n",
       "      <td>40.731132</td>\n",
       "      <td>-73.991931</td>\n",
       "    </tr>\n",
       "    <tr>\n",
       "      <th>2</th>\n",
       "      <td>San Francisco</td>\n",
       "      <td>Xero</td>\n",
       "      <td>244.0</td>\n",
       "      <td>37.779507</td>\n",
       "      <td>-122.390710</td>\n",
       "    </tr>\n",
       "  </tbody>\n",
       "</table>\n",
       "</div>"
      ],
      "text/plain": [
       "            city   name  total_money_raised   latitude   longitude\n",
       "0         London  OANDA               117.0  51.519204   -0.162610\n",
       "1       New York    AOL              1000.0  40.731132  -73.991931\n",
       "2  San Francisco   Xero               244.0  37.779507 -122.390710"
      ]
     },
     "execution_count": 39,
     "metadata": {},
     "output_type": "execute_result"
    }
   ],
   "source": [
    "df3_topcompanies = df2.loc[df2[\"city\"].isin(['San Francisco', 'New York', 'London'])].sort_values(\"total_money_raised\", ascending=False).groupby([\"city\"]).first().reset_index()\n",
    "df3_topcompanies"
   ]
  },
  {
   "cell_type": "code",
   "execution_count": 40,
   "id": "0a5424d0",
   "metadata": {},
   "outputs": [],
   "source": [
    "def creating_airports_df(df, city):\n",
    "    \n",
    "    type_ = []\n",
    "\n",
    "    new = df.loc[(airports[\"municipality\"] == city) & (~airports[\"type\"].isin([\"closed\", \"seaplane_base\", \"heliport\"]))]\n",
    "    \n",
    "    new = new.filter(['name','latitude_deg','longitude_deg', 'municipality'], axis=1).reset_index(drop=True)\n",
    "    \n",
    "    new.rename(columns = {'latitude_deg': 'lat', 'longitude_deg': 'lon', 'municipality':'city'}, inplace=True)\n",
    "    \n",
    "    for index, row in new.iterrows():\n",
    "        type_.append({\"typepoint\": {\"type\": \"Point\", \"coordinates\": [row[\"lat\"], row[\"lon\"]]}})\n",
    "        \n",
    "    new['type'] = pd.Series(type_)\n",
    "    new['address'] = None\n",
    "    new['type_of_place'] = 'Airport'\n",
    "\n",
    "    return new\n",
    "\n"
   ]
  },
  {
   "cell_type": "code",
   "execution_count": 41,
   "id": "e150ce75",
   "metadata": {},
   "outputs": [],
   "source": [
    "airports = pd.read_csv(\"../Project_3_Company_Headquarters/dataframes/airports.csv\")\n",
    "\n",
    "airports_london = creating_airports_df(airports, \"London\")\n",
    "airports_newyork = creating_airports_df(airports, \"New York\")\n",
    "airports_sanfrancisco = creating_airports_df(airports, \"San Francisco\")"
   ]
  },
  {
   "cell_type": "code",
   "execution_count": null,
   "id": "1d0347a0",
   "metadata": {},
   "outputs": [],
   "source": []
  },
  {
   "cell_type": "code",
   "execution_count": 42,
   "id": "7af693cd",
   "metadata": {},
   "outputs": [],
   "source": [
    "# def type_airports_dfs (list_):\n",
    "#     type_ = []\n",
    "    \n",
    "#     for df in list_:\n",
    "#         for index, row in df.iterrows():\n",
    "#             type_.append({\"typepoint\": {\"type\": \"Point\", \"coordinates\": [row[\"lat\"], row[\"lon\"]]}})\n",
    "#         df['type'] = pd.Series(type_)\n",
    "#         df['address'] = None\n",
    "#         df['type_of_place'] = 'Airport'"
   ]
  },
  {
   "cell_type": "code",
   "execution_count": 43,
   "id": "2dbcf5a0",
   "metadata": {},
   "outputs": [],
   "source": [
    "# list_ = [airports_newyork, airports_london, airports_sanfrancisco]\n",
    "\n",
    "# type_airports_dfs(list_)"
   ]
  },
  {
   "cell_type": "markdown",
   "id": "a5f0aa56",
   "metadata": {},
   "source": [
    "# Accessing the API"
   ]
  },
  {
   "cell_type": "code",
   "execution_count": 44,
   "id": "3cffaf15",
   "metadata": {},
   "outputs": [
    {
     "data": {
      "text/plain": [
       "'fsq3+bzNB46UzQcV4R4Uc5gDnPvzCPqR93jv1QubIBPd4oY='"
      ]
     },
     "execution_count": 44,
     "metadata": {},
     "output_type": "execute_result"
    }
   ],
   "source": [
    "token_fsq = os.getenv(\"key\")\n",
    "token_fsq"
   ]
  },
  {
   "cell_type": "code",
   "execution_count": 45,
   "id": "a3508d38",
   "metadata": {},
   "outputs": [],
   "source": [
    "def get_results_from_foursquare (query, location, limit):\n",
    "\n",
    "    ll = f\"{location[1]}%2C{location[0]}\"\n",
    "    url = f\"https://api.foursquare.com/v3/places/search?query={query}&ll={ll}&sort=DISTANCE&limit={str(limit)}\"\n",
    "\n",
    "    headers = {\n",
    "        \"accept\": \"application/json\",\n",
    "        \"Authorization\": token_fsq,\n",
    "    }\n",
    "\n",
    "    response = requests.get(url, headers=headers).json()\n",
    "    \n",
    "    return response"
   ]
  },
  {
   "cell_type": "code",
   "execution_count": 46,
   "id": "ef5c0f4d",
   "metadata": {},
   "outputs": [],
   "source": [
    "def making_requests(query):\n",
    "    \n",
    "    location = []\n",
    "    dict_of_dfs = dict()\n",
    "\n",
    "    for index, row in df3_topcompanies.iterrows():\n",
    "\n",
    "        location.append(row[\"longitude\"])\n",
    "        location.append(row[\"latitude\"])\n",
    "\n",
    "        places = get_results_from_foursquare(query, location, 50)\n",
    "        print(places)\n",
    "\n",
    "        dict_of_dfs[row[\"city\"]] = creating_dfs(places, query, row[\"city\"])\n",
    "\n",
    "        location = []\n",
    "               \n",
    "    return dict_of_dfs"
   ]
  },
  {
   "cell_type": "code",
   "execution_count": 47,
   "id": "31886cfd",
   "metadata": {},
   "outputs": [],
   "source": [
    "def creating_dfs(res, type_of_place, city):\n",
    "    \n",
    "    new_list = []\n",
    "    \n",
    "    for i in res[\"results\"]:\n",
    "    \n",
    "        name = i[\"name\"]\n",
    "        address =  i[\"location\"][\"formatted_address\"]\n",
    "        lat = i[\"geocodes\"][\"main\"][\"latitude\"]\n",
    "        lon = i[\"geocodes\"][\"main\"][\"longitude\"]\n",
    "\n",
    "        type_ = {\"typepoint\": \n",
    "                              {\"type\": \"Point\", \n",
    "                               \"coordinates\": [lat, lon]}}\n",
    "\n",
    "        new_list.append({\"name\":name, \"lat\":lat, \"lon\":lon, \"city\": city, \"type\":type_, \"address\": address, \"type_of_place\": type_of_place})\n",
    "        \n",
    "    df = pd.DataFrame.from_records(new_list)\n",
    "        \n",
    "    return df\n"
   ]
  },
  {
   "cell_type": "code",
   "execution_count": null,
   "id": "6d7f520f",
   "metadata": {
    "scrolled": true
   },
   "outputs": [],
   "source": [
    "bars = making_requests(\"Bar\")\n",
    "nightclubs = making_requests(\"Night Club\")\n",
    "elementary_schools = making_requests(\"Elementary School\")\n",
    "nurseries = making_requests(\"Nursery School\")\n"
   ]
  },
  {
   "cell_type": "code",
   "execution_count": 49,
   "id": "190ab771",
   "metadata": {},
   "outputs": [],
   "source": [
    "#df2.to_csv(\"filtered_companies.csv\", index=False)\n"
   ]
  },
  {
   "cell_type": "code",
   "execution_count": 50,
   "id": "d840f826",
   "metadata": {},
   "outputs": [],
   "source": [
    "bars1 = bars\n",
    "nightclubs1 = nightclubs\n",
    "elementary_schools1 = elementary_schools\n",
    "nurseries1 = nurseries\n"
   ]
  },
  {
   "cell_type": "code",
   "execution_count": 51,
   "id": "972ed002",
   "metadata": {},
   "outputs": [],
   "source": [
    "# def names(word, dic):\n",
    "    \n",
    "#     for value in dic.values():\n",
    "        \n",
    "#         value[\"type_of_place\"] = word\n",
    "#         \n",
    "        \n",
    "# names(\"Bar\", bars)\n",
    "# names(\"Night Club\", nightclubs)\n",
    "# names(\"Elementary School\", elementary_schools)\n",
    "# names(\"Nursery School\", nurseries)"
   ]
  },
  {
   "cell_type": "code",
   "execution_count": 52,
   "id": "9678410e",
   "metadata": {},
   "outputs": [],
   "source": [
    "def distances(df, dic):\n",
    "    \n",
    "    distance_from_company = []\n",
    "    \n",
    "    for index, row in df.iterrows():\n",
    "        company_loc = (row[\"latitude\"], row[\"longitude\"])\n",
    "        \n",
    "        for df in dic.values():\n",
    "            \n",
    "            for index2, row2 in df.iterrows():\n",
    "            \n",
    "                try:\n",
    "\n",
    "                    location = (row2[\"lat\"], row2[\"lon\"])\n",
    "\n",
    "                    distance_from_company.append(hs.haversine(location, company_loc))\n",
    "        \n",
    "\n",
    "                except TypeError:\n",
    "                    distance_from_company.append(None)\n",
    "                \n",
    "            df[\"distance_from_company\"] = pd.Series(distance_from_company)\n"
   ]
  },
  {
   "cell_type": "code",
   "execution_count": 53,
   "id": "e57055dd",
   "metadata": {},
   "outputs": [],
   "source": [
    "air = {\"London\" : airports_london,\n",
    "      \"New York\": airports_newyork,\n",
    "      \"San Francisco\": airports_sanfrancisco}\n",
    "\n",
    "airports1 = air\n",
    "\n",
    "distances(df3_topcompanies, nurseries)\n",
    "distances(df3_topcompanies, bars)\n",
    "distances(df3_topcompanies, nightclubs)\n",
    "distances(df3_topcompanies, elementary_schools)\n",
    "distances(df3_topcompanies, air) ##why is the first value always wrong?\n"
   ]
  },
  {
   "cell_type": "code",
   "execution_count": 54,
   "id": "c4adf9ba",
   "metadata": {},
   "outputs": [],
   "source": [
    "\n",
    "def concat_dfs(list_, city):\n",
    "    \n",
    "    df1 = pd.DataFrame()\n",
    "    \n",
    "    for dic in list_:\n",
    "\n",
    "        for df in dic.values():                \n",
    "\n",
    "            if df[\"city\"].iloc[0] == city:\n",
    "                df1 = pd.concat([df1, df], axis=0, join= \"outer\").reset_index(drop = True)\n",
    "\n",
    "    return df1\n",
    "\n"
   ]
  },
  {
   "cell_type": "code",
   "execution_count": 57,
   "id": "21d0db74",
   "metadata": {
    "collapsed": true
   },
   "outputs": [
    {
     "data": {
      "text/html": [
       "<div>\n",
       "<style scoped>\n",
       "    .dataframe tbody tr th:only-of-type {\n",
       "        vertical-align: middle;\n",
       "    }\n",
       "\n",
       "    .dataframe tbody tr th {\n",
       "        vertical-align: top;\n",
       "    }\n",
       "\n",
       "    .dataframe thead th {\n",
       "        text-align: right;\n",
       "    }\n",
       "</style>\n",
       "<table border=\"1\" class=\"dataframe\">\n",
       "  <thead>\n",
       "    <tr style=\"text-align: right;\">\n",
       "      <th></th>\n",
       "      <th>name</th>\n",
       "      <th>lat</th>\n",
       "      <th>lon</th>\n",
       "      <th>city</th>\n",
       "      <th>type</th>\n",
       "      <th>address</th>\n",
       "      <th>type_of_place</th>\n",
       "      <th>distance_from_company</th>\n",
       "    </tr>\n",
       "  </thead>\n",
       "  <tbody>\n",
       "    <tr>\n",
       "      <th>0</th>\n",
       "      <td>The Mirror Bar</td>\n",
       "      <td>51.521536</td>\n",
       "      <td>-0.162908</td>\n",
       "      <td>London</td>\n",
       "      <td>{'typepoint': {'type': 'Point', 'coordinates':...</td>\n",
       "      <td>222 Marylebone Rd, London, Greater London, NW1...</td>\n",
       "      <td>Bar</td>\n",
       "      <td>0.260102</td>\n",
       "    </tr>\n",
       "    <tr>\n",
       "      <th>1</th>\n",
       "      <td>Sara Cafe</td>\n",
       "      <td>51.520111</td>\n",
       "      <td>-0.158643</td>\n",
       "      <td>London</td>\n",
       "      <td>{'typepoint': {'type': 'Point', 'coordinates':...</td>\n",
       "      <td>13A Crawford St, London, Greater London, W1U 6BZ</td>\n",
       "      <td>Bar</td>\n",
       "      <td>0.292434</td>\n",
       "    </tr>\n",
       "    <tr>\n",
       "      <th>2</th>\n",
       "      <td>Marriott Marble Arch - Executive Lounge</td>\n",
       "      <td>51.516266</td>\n",
       "      <td>-0.163932</td>\n",
       "      <td>London</td>\n",
       "      <td>{'typepoint': {'type': 'Point', 'coordinates':...</td>\n",
       "      <td>134 George St, London, Greater London, W1H 5DN</td>\n",
       "      <td>Bar</td>\n",
       "      <td>0.339272</td>\n",
       "    </tr>\n",
       "    <tr>\n",
       "      <th>3</th>\n",
       "      <td>Gino's Coffee Bar</td>\n",
       "      <td>51.522114</td>\n",
       "      <td>-0.162098</td>\n",
       "      <td>London</td>\n",
       "      <td>{'typepoint': {'type': 'Point', 'coordinates':...</td>\n",
       "      <td>Great Central St, London, Greater London, NW1 6JH</td>\n",
       "      <td>Bar</td>\n",
       "      <td>0.325491</td>\n",
       "    </tr>\n",
       "    <tr>\n",
       "      <th>4</th>\n",
       "      <td>Sports Bar &amp; Grill</td>\n",
       "      <td>51.522365</td>\n",
       "      <td>-0.163686</td>\n",
       "      <td>London</td>\n",
       "      <td>{'typepoint': {'type': 'Point', 'coordinates':...</td>\n",
       "      <td>Marylebone Station, Melcombe Pl, Marylebone, G...</td>\n",
       "      <td>Bar</td>\n",
       "      <td>0.359259</td>\n",
       "    </tr>\n",
       "    <tr>\n",
       "      <th>...</th>\n",
       "      <td>...</td>\n",
       "      <td>...</td>\n",
       "      <td>...</td>\n",
       "      <td>...</td>\n",
       "      <td>...</td>\n",
       "      <td>...</td>\n",
       "      <td>...</td>\n",
       "      <td>...</td>\n",
       "    </tr>\n",
       "    <tr>\n",
       "      <th>210</th>\n",
       "      <td>London Stansted Airport</td>\n",
       "      <td>51.884998</td>\n",
       "      <td>0.235000</td>\n",
       "      <td>London</td>\n",
       "      <td>{'typepoint': {'type': 'Point', 'coordinates':...</td>\n",
       "      <td>None</td>\n",
       "      <td>Airport</td>\n",
       "      <td>49.042748</td>\n",
       "    </tr>\n",
       "    <tr>\n",
       "      <th>211</th>\n",
       "      <td>RAF Northolt</td>\n",
       "      <td>51.553001</td>\n",
       "      <td>-0.418167</td>\n",
       "      <td>London</td>\n",
       "      <td>{'typepoint': {'type': 'Point', 'coordinates':...</td>\n",
       "      <td>None</td>\n",
       "      <td>Airport</td>\n",
       "      <td>18.070843</td>\n",
       "    </tr>\n",
       "    <tr>\n",
       "      <th>212</th>\n",
       "      <td>London-Corbin Airport/Magee Field</td>\n",
       "      <td>37.082199</td>\n",
       "      <td>-84.084900</td>\n",
       "      <td>London</td>\n",
       "      <td>{'typepoint': {'type': 'Point', 'coordinates':...</td>\n",
       "      <td>None</td>\n",
       "      <td>Airport</td>\n",
       "      <td>6489.449806</td>\n",
       "    </tr>\n",
       "    <tr>\n",
       "      <th>213</th>\n",
       "      <td>Madison County Airport</td>\n",
       "      <td>39.932701</td>\n",
       "      <td>-83.461998</td>\n",
       "      <td>London</td>\n",
       "      <td>{'typepoint': {'type': 'Point', 'coordinates':...</td>\n",
       "      <td>None</td>\n",
       "      <td>Airport</td>\n",
       "      <td>6234.906289</td>\n",
       "    </tr>\n",
       "    <tr>\n",
       "      <th>214</th>\n",
       "      <td>Comanche Ridge Ranch Airport</td>\n",
       "      <td>30.771300</td>\n",
       "      <td>-99.515770</td>\n",
       "      <td>London</td>\n",
       "      <td>{'typepoint': {'type': 'Point', 'coordinates':...</td>\n",
       "      <td>None</td>\n",
       "      <td>Airport</td>\n",
       "      <td>7975.266875</td>\n",
       "    </tr>\n",
       "  </tbody>\n",
       "</table>\n",
       "<p>215 rows × 8 columns</p>\n",
       "</div>"
      ],
      "text/plain": [
       "                                        name        lat        lon    city  \\\n",
       "0                             The Mirror Bar  51.521536  -0.162908  London   \n",
       "1                                  Sara Cafe  51.520111  -0.158643  London   \n",
       "2    Marriott Marble Arch - Executive Lounge  51.516266  -0.163932  London   \n",
       "3                          Gino's Coffee Bar  51.522114  -0.162098  London   \n",
       "4                         Sports Bar & Grill  51.522365  -0.163686  London   \n",
       "..                                       ...        ...        ...     ...   \n",
       "210                  London Stansted Airport  51.884998   0.235000  London   \n",
       "211                             RAF Northolt  51.553001  -0.418167  London   \n",
       "212        London-Corbin Airport/Magee Field  37.082199 -84.084900  London   \n",
       "213                   Madison County Airport  39.932701 -83.461998  London   \n",
       "214             Comanche Ridge Ranch Airport  30.771300 -99.515770  London   \n",
       "\n",
       "                                                  type  \\\n",
       "0    {'typepoint': {'type': 'Point', 'coordinates':...   \n",
       "1    {'typepoint': {'type': 'Point', 'coordinates':...   \n",
       "2    {'typepoint': {'type': 'Point', 'coordinates':...   \n",
       "3    {'typepoint': {'type': 'Point', 'coordinates':...   \n",
       "4    {'typepoint': {'type': 'Point', 'coordinates':...   \n",
       "..                                                 ...   \n",
       "210  {'typepoint': {'type': 'Point', 'coordinates':...   \n",
       "211  {'typepoint': {'type': 'Point', 'coordinates':...   \n",
       "212  {'typepoint': {'type': 'Point', 'coordinates':...   \n",
       "213  {'typepoint': {'type': 'Point', 'coordinates':...   \n",
       "214  {'typepoint': {'type': 'Point', 'coordinates':...   \n",
       "\n",
       "                                               address type_of_place  \\\n",
       "0    222 Marylebone Rd, London, Greater London, NW1...           Bar   \n",
       "1     13A Crawford St, London, Greater London, W1U 6BZ           Bar   \n",
       "2       134 George St, London, Greater London, W1H 5DN           Bar   \n",
       "3    Great Central St, London, Greater London, NW1 6JH           Bar   \n",
       "4    Marylebone Station, Melcombe Pl, Marylebone, G...           Bar   \n",
       "..                                                 ...           ...   \n",
       "210                                               None       Airport   \n",
       "211                                               None       Airport   \n",
       "212                                               None       Airport   \n",
       "213                                               None       Airport   \n",
       "214                                               None       Airport   \n",
       "\n",
       "     distance_from_company  \n",
       "0                 0.260102  \n",
       "1                 0.292434  \n",
       "2                 0.339272  \n",
       "3                 0.325491  \n",
       "4                 0.359259  \n",
       "..                     ...  \n",
       "210              49.042748  \n",
       "211              18.070843  \n",
       "212            6489.449806  \n",
       "213            6234.906289  \n",
       "214            7975.266875  \n",
       "\n",
       "[215 rows x 8 columns]"
      ]
     },
     "execution_count": 57,
     "metadata": {},
     "output_type": "execute_result"
    }
   ],
   "source": [
    "london = concat_dfs([bars, nightclubs, nurseries, elementary_schools, air], \"London\")\n",
    "new_york = concat_dfs([bars, nightclubs, nurseries, elementary_schools, air], \"New York\")\n",
    "san_francisco = concat_dfs([bars, nightclubs, nurseries, elementary_schools, air], \"San Francisco\")"
   ]
  },
  {
   "cell_type": "code",
   "execution_count": 58,
   "id": "2c58f148",
   "metadata": {},
   "outputs": [],
   "source": [
    "london.to_csv(\"london_places.csv\", index=False)\n",
    "new_york.to_csv(\"ny_places.csv\", index=False)\n",
    "san_francisco.to_csv(\"london_places.csv\", index=False)\n"
   ]
  },
  {
   "cell_type": "code",
   "execution_count": null,
   "id": "86709be1",
   "metadata": {},
   "outputs": [],
   "source": []
  }
 ],
 "metadata": {
  "kernelspec": {
   "display_name": "Python 3 (ipykernel)",
   "language": "python",
   "name": "python3"
  },
  "language_info": {
   "codemirror_mode": {
    "name": "ipython",
    "version": 3
   },
   "file_extension": ".py",
   "mimetype": "text/x-python",
   "name": "python",
   "nbconvert_exporter": "python",
   "pygments_lexer": "ipython3",
   "version": "3.10.4"
  },
  "toc": {
   "base_numbering": 1,
   "nav_menu": {},
   "number_sections": true,
   "sideBar": true,
   "skip_h1_title": false,
   "title_cell": "Table of Contents",
   "title_sidebar": "Contents",
   "toc_cell": false,
   "toc_position": {},
   "toc_section_display": true,
   "toc_window_display": false
  }
 },
 "nbformat": 4,
 "nbformat_minor": 5
}
