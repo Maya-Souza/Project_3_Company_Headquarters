{
 "cells": [
  {
   "cell_type": "code",
   "execution_count": 1,
   "id": "538cf04b",
   "metadata": {},
   "outputs": [],
   "source": [
    "from pymongo import MongoClient\n",
    "import pandas as pd\n",
    "import time"
   ]
  },
  {
   "cell_type": "code",
   "execution_count": 2,
   "id": "1bc8e4f8",
   "metadata": {},
   "outputs": [],
   "source": [
    "client = MongoClient(\"localhost:27017\")\n",
    "db = client[\"ironhack\"]\n",
    "c = db.get_collection(\"companies\")"
   ]
  },
  {
   "cell_type": "code",
   "execution_count": 25,
   "id": "87b70a17",
   "metadata": {},
   "outputs": [
    {
     "data": {
      "text/plain": [
       "[None,\n",
       " 'advertising',\n",
       " 'analytics',\n",
       " 'automotive',\n",
       " 'biotech',\n",
       " 'cleantech',\n",
       " 'consulting',\n",
       " 'design',\n",
       " 'ecommerce',\n",
       " 'education',\n",
       " 'enterprise',\n",
       " 'fashion',\n",
       " 'finance',\n",
       " 'games_video',\n",
       " 'government',\n",
       " 'hardware',\n",
       " 'health',\n",
       " 'hospitality',\n",
       " 'legal',\n",
       " 'local',\n",
       " 'manufacturing',\n",
       " 'medical',\n",
       " 'messaging',\n",
       " 'mobile',\n",
       " 'music',\n",
       " 'nanotech',\n",
       " 'network_hosting',\n",
       " 'news',\n",
       " 'nonprofit',\n",
       " 'other',\n",
       " 'photo_video',\n",
       " 'public_relations',\n",
       " 'real_estate',\n",
       " 'search',\n",
       " 'security',\n",
       " 'semiconductor',\n",
       " 'social',\n",
       " 'software',\n",
       " 'sports',\n",
       " 'transportation',\n",
       " 'travel',\n",
       " 'web']"
      ]
     },
     "execution_count": 25,
     "metadata": {},
     "output_type": "execute_result"
    }
   ],
   "source": [
    "c.distinct(\"category_code\")"
   ]
  },
  {
   "cell_type": "code",
   "execution_count": 27,
   "id": "37523785",
   "metadata": {},
   "outputs": [],
   "source": [
    "condition1 = {\"total_money_raised\" : {\"$regex\": \"\\d{2,}\\.?\\d?M|\\d{1,}\\.?\\d?B\"}}\n",
    "condition2 = {\"tag_list\": {\"$regex\": \".*design.|.tech.|.software.|.fashion.\"}}\n",
    "condition3 = {\"category_code\": \"web\"}\n",
    "\n",
    "projection = {\"_id\": 0, \"name\":1, \"offices.city\":1, \"offices.latitude\":1, \"offices.longitude\": 1}\n",
    "\n",
    "query = {\"$and\": [condition1, {\"$or\": [condition2, condition3]}]}\n",
    "             \n",
    "\n",
    "filtered_companies = list(c.find(query, projection))"
   ]
  },
  {
   "cell_type": "code",
   "execution_count": 29,
   "id": "3320b3ce",
   "metadata": {},
   "outputs": [
    {
     "data": {
      "text/html": [
       "<div>\n",
       "<style scoped>\n",
       "    .dataframe tbody tr th:only-of-type {\n",
       "        vertical-align: middle;\n",
       "    }\n",
       "\n",
       "    .dataframe tbody tr th {\n",
       "        vertical-align: top;\n",
       "    }\n",
       "\n",
       "    .dataframe thead th {\n",
       "        text-align: right;\n",
       "    }\n",
       "</style>\n",
       "<table border=\"1\" class=\"dataframe\">\n",
       "  <thead>\n",
       "    <tr style=\"text-align: right;\">\n",
       "      <th></th>\n",
       "      <th>name</th>\n",
       "      <th>offices</th>\n",
       "    </tr>\n",
       "  </thead>\n",
       "  <tbody>\n",
       "    <tr>\n",
       "      <th>0</th>\n",
       "      <td>Wetpaint</td>\n",
       "      <td>[{'city': 'Seattle', 'latitude': 47.603122, 'l...</td>\n",
       "    </tr>\n",
       "    <tr>\n",
       "      <th>1</th>\n",
       "      <td>Digg</td>\n",
       "      <td>[{'city': 'San Francisco', 'latitude': 37.7647...</td>\n",
       "    </tr>\n",
       "    <tr>\n",
       "      <th>2</th>\n",
       "      <td>Geni</td>\n",
       "      <td>[{'city': 'West Hollywood', 'latitude': 34.090...</td>\n",
       "    </tr>\n",
       "    <tr>\n",
       "      <th>3</th>\n",
       "      <td>StumbleUpon</td>\n",
       "      <td>[{'city': 'San Francisco', 'latitude': 37.7751...</td>\n",
       "    </tr>\n",
       "    <tr>\n",
       "      <th>4</th>\n",
       "      <td>Gizmoz</td>\n",
       "      <td>[{'city': 'Menlo Park', 'latitude': 37.48413, ...</td>\n",
       "    </tr>\n",
       "    <tr>\n",
       "      <th>...</th>\n",
       "      <td>...</td>\n",
       "      <td>...</td>\n",
       "    </tr>\n",
       "    <tr>\n",
       "      <th>480</th>\n",
       "      <td>smartFOCUS</td>\n",
       "      <td>[{'city': 'Bristol', 'latitude': 51.4525116, '...</td>\n",
       "    </tr>\n",
       "    <tr>\n",
       "      <th>481</th>\n",
       "      <td>SOA Software</td>\n",
       "      <td>[{'city': 'Los Angeles', 'latitude': None, 'lo...</td>\n",
       "    </tr>\n",
       "    <tr>\n",
       "      <th>482</th>\n",
       "      <td>Arkeia Software</td>\n",
       "      <td>[{'city': 'Carlsbad', 'latitude': 33.132567, '...</td>\n",
       "    </tr>\n",
       "    <tr>\n",
       "      <th>483</th>\n",
       "      <td>Treehouse</td>\n",
       "      <td>[{'city': 'Orlando', 'latitude': None, 'longit...</td>\n",
       "    </tr>\n",
       "    <tr>\n",
       "      <th>484</th>\n",
       "      <td>iGuiders</td>\n",
       "      <td>[{'city': 'Beachwood', 'latitude': None, 'long...</td>\n",
       "    </tr>\n",
       "  </tbody>\n",
       "</table>\n",
       "<p>485 rows × 2 columns</p>\n",
       "</div>"
      ],
      "text/plain": [
       "                name                                            offices\n",
       "0           Wetpaint  [{'city': 'Seattle', 'latitude': 47.603122, 'l...\n",
       "1               Digg  [{'city': 'San Francisco', 'latitude': 37.7647...\n",
       "2               Geni  [{'city': 'West Hollywood', 'latitude': 34.090...\n",
       "3        StumbleUpon  [{'city': 'San Francisco', 'latitude': 37.7751...\n",
       "4             Gizmoz  [{'city': 'Menlo Park', 'latitude': 37.48413, ...\n",
       "..               ...                                                ...\n",
       "480       smartFOCUS  [{'city': 'Bristol', 'latitude': 51.4525116, '...\n",
       "481     SOA Software  [{'city': 'Los Angeles', 'latitude': None, 'lo...\n",
       "482  Arkeia Software  [{'city': 'Carlsbad', 'latitude': 33.132567, '...\n",
       "483        Treehouse  [{'city': 'Orlando', 'latitude': None, 'longit...\n",
       "484         iGuiders  [{'city': 'Beachwood', 'latitude': None, 'long...\n",
       "\n",
       "[485 rows x 2 columns]"
      ]
     },
     "execution_count": 29,
     "metadata": {},
     "output_type": "execute_result"
    }
   ],
   "source": [
    "df = pd.DataFrame(filtered_companies)\n",
    "df"
   ]
  },
  {
   "cell_type": "code",
   "execution_count": 31,
   "id": "7f400a8a",
   "metadata": {},
   "outputs": [
    {
     "ename": "TypeError",
     "evalue": "tuple indices must be integers or slices, not str",
     "output_type": "error",
     "traceback": [
      "\u001b[1;31m---------------------------------------------------------------------------\u001b[0m",
      "\u001b[1;31mTypeError\u001b[0m                                 Traceback (most recent call last)",
      "Input \u001b[1;32mIn [31]\u001b[0m, in \u001b[0;36m<cell line: 1>\u001b[1;34m()\u001b[0m\n\u001b[0;32m      1\u001b[0m \u001b[38;5;28;01mfor\u001b[39;00m row \u001b[38;5;129;01min\u001b[39;00m df\u001b[38;5;241m.\u001b[39miterrows():\n\u001b[1;32m----> 3\u001b[0m     row[\u001b[38;5;124m\"\u001b[39m\u001b[38;5;124mcities\u001b[39m\u001b[38;5;124m\"\u001b[39m] \u001b[38;5;241m=\u001b[39m \u001b[43mrow\u001b[49m\u001b[43m[\u001b[49m\u001b[38;5;124;43m\"\u001b[39;49m\u001b[38;5;124;43moffices\u001b[39;49m\u001b[38;5;124;43m\"\u001b[39;49m\u001b[43m]\u001b[49m[\u001b[38;5;241m0\u001b[39m][\u001b[38;5;124m\"\u001b[39m\u001b[38;5;124mcity\u001b[39m\u001b[38;5;124m\"\u001b[39m]\n\u001b[0;32m      5\u001b[0m df\n",
      "\u001b[1;31mTypeError\u001b[0m: tuple indices must be integers or slices, not str"
     ]
    }
   ],
   "source": [
    "for row in df.iterrows():\n",
    "    \n",
    "    row[\"cities\"] = row[\"offices\"][0][\"city\"]\n",
    "    \n",
    "df"
   ]
  },
  {
   "cell_type": "code",
   "execution_count": null,
   "id": "a7ebe4f7",
   "metadata": {},
   "outputs": [],
   "source": []
  }
 ],
 "metadata": {
  "kernelspec": {
   "display_name": "Python 3 (ipykernel)",
   "language": "python",
   "name": "python3"
  },
  "language_info": {
   "codemirror_mode": {
    "name": "ipython",
    "version": 3
   },
   "file_extension": ".py",
   "mimetype": "text/x-python",
   "name": "python",
   "nbconvert_exporter": "python",
   "pygments_lexer": "ipython3",
   "version": "3.10.4"
  },
  "toc": {
   "base_numbering": 1,
   "nav_menu": {},
   "number_sections": true,
   "sideBar": true,
   "skip_h1_title": false,
   "title_cell": "Table of Contents",
   "title_sidebar": "Contents",
   "toc_cell": false,
   "toc_position": {},
   "toc_section_display": true,
   "toc_window_display": false
  }
 },
 "nbformat": 4,
 "nbformat_minor": 5
}
